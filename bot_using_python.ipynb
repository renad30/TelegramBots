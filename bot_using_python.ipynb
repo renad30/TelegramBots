{
  "nbformat": 4,
  "nbformat_minor": 0,
  "metadata": {
    "colab": {
      "provenance": [],
      "authorship_tag": "ABX9TyPL05TrawwjoJBKNiVa5nD0",
      "include_colab_link": true
    },
    "kernelspec": {
      "name": "python3",
      "display_name": "Python 3"
    },
    "language_info": {
      "name": "python"
    }
  },
  "cells": [
    {
      "cell_type": "markdown",
      "metadata": {
        "id": "view-in-github",
        "colab_type": "text"
      },
      "source": [
        "<a href=\"https://colab.research.google.com/github/renad30/TelegramBots/blob/main/bot_using_python.ipynb\" target=\"_parent\"><img src=\"https://colab.research.google.com/assets/colab-badge.svg\" alt=\"Open In Colab\"/></a>"
      ]
    },
    {
      "cell_type": "markdown",
      "source": [
        "#Imports\n",
        "\n",
        "\n",
        "\n",
        "\n",
        "\n"
      ],
      "metadata": {
        "id": "PHMAi5uznur7"
      }
    },
    {
      "cell_type": "code",
      "execution_count": 10,
      "metadata": {
        "colab": {
          "base_uri": "https://localhost:8080/"
        },
        "id": "RdpuZaYVhsou",
        "outputId": "f6676f65-81ff-4e65-b9d2-1276cb5d3f3b"
      },
      "outputs": [
        {
          "output_type": "stream",
          "name": "stdout",
          "text": [
            "Requirement already satisfied: pyTelegramBotAPI in /usr/local/lib/python3.10/dist-packages (4.15.4)\n",
            "Requirement already satisfied: requests in /usr/local/lib/python3.10/dist-packages (from pyTelegramBotAPI) (2.31.0)\n",
            "Requirement already satisfied: charset-normalizer<4,>=2 in /usr/local/lib/python3.10/dist-packages (from requests->pyTelegramBotAPI) (3.3.2)\n",
            "Requirement already satisfied: idna<4,>=2.5 in /usr/local/lib/python3.10/dist-packages (from requests->pyTelegramBotAPI) (3.6)\n",
            "Requirement already satisfied: urllib3<3,>=1.21.1 in /usr/local/lib/python3.10/dist-packages (from requests->pyTelegramBotAPI) (2.0.7)\n",
            "Requirement already satisfied: certifi>=2017.4.17 in /usr/local/lib/python3.10/dist-packages (from requests->pyTelegramBotAPI) (2024.2.2)\n"
          ]
        }
      ],
      "source": [
        "!pip install pyTelegramBotAPI\n",
        "import telebot\n",
        "from telebot import types"
      ]
    },
    {
      "cell_type": "markdown",
      "source": [
        "#Bot 1"
      ],
      "metadata": {
        "id": "gIYf719snrvX"
      }
    },
    {
      "cell_type": "code",
      "source": [
        "bot = telebot.TeleBot('6406529343:AAGHreapycQYxbzG8E7iFZqRYDHNXkcE2GU')\n",
        "\n",
        "@bot.message_handler(commands=['start'])\n",
        "def send_welcom(message):\n",
        "  bot.reply_to(message,'hello world!')\n",
        "\n",
        "bot.infinity_polling()"
      ],
      "metadata": {
        "colab": {
          "base_uri": "https://localhost:8080/"
        },
        "id": "yFYg2WaWjOGR",
        "outputId": "eb21be07-f315-4821-f393-92e1d938e2c4"
      },
      "execution_count": null,
      "outputs": [
        {
          "output_type": "stream",
          "name": "stderr",
          "text": [
            "2024-02-07 18:12:05,868 (__init__.py:1027 MainThread) ERROR - TeleBot: \"Infinity polling: polling exited\"\n",
            "ERROR:TeleBot:Infinity polling: polling exited\n",
            "2024-02-07 18:12:05,871 (__init__.py:1029 MainThread) ERROR - TeleBot: \"Break infinity polling\"\n",
            "ERROR:TeleBot:Break infinity polling\n"
          ]
        }
      ]
    },
    {
      "cell_type": "markdown",
      "source": [
        "#Bot 2"
      ],
      "metadata": {
        "id": "IDMl9PCNnWZt"
      }
    },
    {
      "cell_type": "code",
      "source": [
        "\n",
        "bot = telebot.TeleBot(\"6406529343:AAGHreapycQYxbzG8E7iFZqRYDHNXkcE2GU\")\n",
        "\n",
        "@bot.message_handler(commands=['start'])\n",
        "def send_welcome(message):\n",
        "    bot.reply_to(message, \"Hello World!\")\n",
        "\n",
        "@bot.message_handler(content_types=\"text\")\n",
        "def reply(message):\n",
        "    if(message.text == \"How are you?\"):\n",
        "        bot.send_message(message.from_user.id, \"I am fine, thanks for asking\")\n",
        "    elif(message.text==\"What's your name?\"):\n",
        "        bot.send_message(message.from_user.id, \"my name is renad's first bot Bot\")\n",
        "    elif(message.text == \"How old are you?\"):\n",
        "        bot.send_message(message.from_user.id, \"I was created one year ago by AUIN0\")\n",
        "    else:\n",
        "        bot.send_message(message.from_user.id, \"I didn't understand, please repeat your question\")\n",
        "\n",
        "bot.infinity_polling()"
      ],
      "metadata": {
        "id": "oPq8o5DqlW3l"
      },
      "execution_count": null,
      "outputs": []
    },
    {
      "cell_type": "markdown",
      "source": [
        "#Bot 3"
      ],
      "metadata": {
        "id": "om0k4zVtxG5L"
      }
    },
    {
      "cell_type": "code",
      "source": [
        "bot = telebot.TeleBot('6406529343:AAGHreapycQYxbzG8E7iFZqRYDHNXkcE2GU')\n",
        "\n",
        "@bot.message_handler(commands=['start'])\n",
        "def send_welcom(message):\n",
        "    bot.reply_to(message, f'Hello {message.from_user.username}, welcome to renad`s first bot!')\n",
        "\n",
        "\n",
        "bot.infinity_polling()"
      ],
      "metadata": {
        "id": "Z5p-hcGkwuH8",
        "colab": {
          "base_uri": "https://localhost:8080/"
        },
        "outputId": "6a1b9633-6751-49fd-a31c-a45a05c02166"
      },
      "execution_count": null,
      "outputs": [
        {
          "output_type": "stream",
          "name": "stderr",
          "text": [
            "2024-02-07 18:17:43,993 (__init__.py:1027 MainThread) ERROR - TeleBot: \"Infinity polling: polling exited\"\n",
            "ERROR:TeleBot:Infinity polling: polling exited\n",
            "2024-02-07 18:17:43,997 (__init__.py:1029 MainThread) ERROR - TeleBot: \"Break infinity polling\"\n",
            "ERROR:TeleBot:Break infinity polling\n"
          ]
        }
      ]
    },
    {
      "cell_type": "markdown",
      "source": [
        "#Bot 4"
      ],
      "metadata": {
        "id": "wydWLp7D9QrU"
      }
    },
    {
      "cell_type": "code",
      "source": [
        "\n",
        "bot = telebot.TeleBot('6406529343:AAGHreapycQYxbzG8E7iFZqRYDHNXkcE2GU')\n",
        "\n",
        "def us(id):\n",
        "    bot.send_message(id, 'Who is renad?')\n",
        "    bot.send_message(id, 'She is my owner!! I`m her first bot :)')\n",
        "\n",
        "def socials(id):\n",
        "    key = types.InlineKeyboardMarkup()\n",
        "    LinkedInButton = types.InlineKeyboardButton(text=\"LinkedIn\", url=\"https://www.linkedin.com/in/re30\")\n",
        "    key.add(LinkedInButton)\n",
        "    twitterButton = types.InlineKeyboardButton(text=\"Twitter\", url=\"https://twitter.com/renadlj2\")\n",
        "    key.add(twitterButton)\n",
        "    bot.send_message(id, 'Check out my owner\\'s social profiles:', reply_markup=key)\n",
        "\n",
        "@bot.message_handler(commands=[\"start\", \"ابدا\"])\n",
        "def replay(m):\n",
        "    key = types.InlineKeyboardMarkup()\n",
        "    button1 = types.InlineKeyboardButton(text=\"Who is renad?\", callback_data=\"Who\")\n",
        "    key.add(button1)\n",
        "    button2 = types.InlineKeyboardButton(text=\"Socials\", callback_data=\"Socials\")\n",
        "    key.add(button2)\n",
        "    bot.send_message(m.chat.id, 'Choose one:', reply_markup=key)\n",
        "\n",
        "items = [\"Who\", \"Socials\"]\n",
        "\n",
        "@bot.callback_query_handler(func=lambda message: message.data in items)\n",
        "def check(message):\n",
        "    if message.data == \"Who\":\n",
        "        us(message.from_user.id)\n",
        "    elif message.data == \"Socials\":\n",
        "        socials(message.from_user.id)\n",
        "\n",
        "bot.infinity_polling()"
      ],
      "metadata": {
        "colab": {
          "base_uri": "https://localhost:8080/"
        },
        "id": "L2Oq0iUPy3lN",
        "outputId": "3bd56933-7e43-498a-eb84-1586811b6adc"
      },
      "execution_count": 14,
      "outputs": [
        {
          "output_type": "stream",
          "name": "stderr",
          "text": [
            "2024-02-07 19:08:32,279 (__init__.py:1027 MainThread) ERROR - TeleBot: \"Infinity polling: polling exited\"\n",
            "ERROR:TeleBot:Infinity polling: polling exited\n",
            "2024-02-07 19:08:32,283 (__init__.py:1029 MainThread) ERROR - TeleBot: \"Break infinity polling\"\n",
            "ERROR:TeleBot:Break infinity polling\n"
          ]
        }
      ]
    }
  ]
}